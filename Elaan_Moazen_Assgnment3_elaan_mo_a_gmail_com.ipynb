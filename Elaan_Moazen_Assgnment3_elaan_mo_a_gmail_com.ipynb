{
  "nbformat": 4,
  "nbformat_minor": 0,
  "metadata": {
    "colab": {
      "provenance": [],
      "include_colab_link": true
    },
    "kernelspec": {
      "name": "python3",
      "display_name": "Python 3"
    }
  },
  "cells": [
    {
      "cell_type": "markdown",
      "metadata": {
        "id": "view-in-github",
        "colab_type": "text"
      },
      "source": [
        "<a href=\"https://colab.research.google.com/github/ElaanMoazen/ML---Movies-Sentiment-Analysis/blob/main/Elaan_Moazen_Assgnment3_elaan_mo_a_gmail_com.ipynb\" target=\"_parent\"><img src=\"https://colab.research.google.com/assets/colab-badge.svg\" alt=\"Open In Colab\"/></a>"
      ]
    },
    {
      "cell_type": "markdown",
      "metadata": {
        "id": "Q24hSxA4tA6n"
      },
      "source": [
        "# Text classification: Understanding the Customer's Feedback\n",
        "\n",
        "---\n",
        "\n",
        "Text classification is one of the important tasks of text mining\n",
        "\n",
        "![alt text](http://res.cloudinary.com/dyd911kmh/image/upload/f_auto,q_auto:best/v1535125878/NLTK3_zwbdgg.png)\n",
        "\n",
        "In this notebook, we will perform Sentiment Analysis on IMDB movies reviews. Sentiment Analysis is the art of extracting people's opinion from digital text. We will use a regression model from Scikit-Learn able to predict the sentiment given a movie review.\n",
        "\n",
        "We will use [the IMDB movie review dataset](http://ai.stanford.edu/~amaas/data/sentiment/), which consists of 50,000 movies review (50% are positive, 50% are negative)."
      ]
    },
    {
      "cell_type": "markdown",
      "metadata": {
        "id": "0O1jA8byt4bV"
      },
      "source": [
        "The libraries needed in this exercise are:\n",
        "* [Numpy](http://www.numpy.org/) — a package for scientific computing.\n",
        "* [Pandas](https://pandas.pydata.org/) — a library providing high-performance, easy-to-use data structures and data analysis tools for the Python\n",
        "* [Matplotlib](https://matplotlib.org/) — a package for plotting & visualizations.\n",
        "* [scikit-learn](http://scikit-learn.org/stable/index.html) — a tool for data mining and data analysis.\n",
        "* [NLTK](http://www.nltk.org/) — a platform to work with natural language."
      ]
    },
    {
      "cell_type": "markdown",
      "metadata": {
        "id": "844CS6rf57X7"
      },
      "source": [
        "##Loading the data"
      ]
    },
    {
      "cell_type": "markdown",
      "metadata": {
        "id": "QAt6rj955meo"
      },
      "source": [
        "### Importing the libraries and necessary dictionaries"
      ]
    },
    {
      "cell_type": "code",
      "metadata": {
        "id": "RRN4WqkltlB5",
        "outputId": "bfa42fdd-1dc2-46e2-ffe6-f1579eff0ae7",
        "colab": {
          "base_uri": "https://localhost:8080/"
        }
      },
      "source": [
        "import numpy as np\n",
        "import pandas as pd\n",
        "import nltk\n",
        "import matplotlib.pyplot as plt\n",
        "from tensorflow import keras\n",
        "\n",
        "# download Punkt Sentence Tokenizer\n",
        "nltk.download('punkt')\n",
        "# download stopwords\n",
        "nltk.download('stopwords')"
      ],
      "execution_count": null,
      "outputs": [
        {
          "output_type": "stream",
          "name": "stderr",
          "text": [
            "[nltk_data] Downloading package punkt to /root/nltk_data...\n",
            "[nltk_data]   Package punkt is already up-to-date!\n",
            "[nltk_data] Downloading package stopwords to /root/nltk_data...\n",
            "[nltk_data]   Package stopwords is already up-to-date!\n"
          ]
        },
        {
          "output_type": "execute_result",
          "data": {
            "text/plain": [
              "True"
            ]
          },
          "metadata": {},
          "execution_count": 5
        }
      ]
    },
    {
      "cell_type": "markdown",
      "metadata": {
        "id": "7duM74C95rhN"
      },
      "source": [
        "### Loading the dataset in our directory"
      ]
    },
    {
      "cell_type": "code",
      "metadata": {
        "id": "c48UYWDcg3hR",
        "outputId": "2912002f-6b9c-44be-d4cc-3da2197bb67e",
        "colab": {
          "base_uri": "https://localhost:8080/"
        }
      },
      "source": [
        "# download IMDB dataset\n",
        "!wget \"https://raw.githubusercontent.com/javaidnabi31/Word-Embeddding-Sentiment-Classification/master/movie_data.csv\" -O \"movie_data.csv\"\n",
        "\n",
        "# list files in current directory\n",
        "!ls -lah"
      ],
      "execution_count": null,
      "outputs": [
        {
          "output_type": "stream",
          "name": "stdout",
          "text": [
            "--2024-05-08 08:06:33--  https://raw.githubusercontent.com/javaidnabi31/Word-Embeddding-Sentiment-Classification/master/movie_data.csv\n",
            "Resolving raw.githubusercontent.com (raw.githubusercontent.com)... 185.199.108.133, 185.199.109.133, 185.199.110.133, ...\n",
            "Connecting to raw.githubusercontent.com (raw.githubusercontent.com)|185.199.108.133|:443... connected.\n",
            "HTTP request sent, awaiting response... 200 OK\n",
            "Length: 65862309 (63M) [text/plain]\n",
            "Saving to: ‘movie_data.csv’\n",
            "\n",
            "movie_data.csv      100%[===================>]  62.81M   202MB/s    in 0.3s    \n",
            "\n",
            "2024-05-08 08:06:33 (202 MB/s) - ‘movie_data.csv’ saved [65862309/65862309]\n",
            "\n",
            "total 63M\n",
            "drwxr-xr-x 1 root root 4.0K May  8 08:05 .\n",
            "drwxr-xr-x 1 root root 4.0K May  8 08:01 ..\n",
            "drwxr-xr-x 4 root root 4.0K May  6 13:19 .config\n",
            "-rw-r--r-- 1 root root  63M May  8 08:06 movie_data.csv\n",
            "drwxr-xr-x 1 root root 4.0K May  6 13:19 sample_data\n"
          ]
        }
      ]
    },
    {
      "cell_type": "markdown",
      "metadata": {
        "id": "77spW4xt5y4R"
      },
      "source": [
        "###Reading the dataset file and getting info on it\n",
        "**Question 1:** Use pandas to read the csv file and display the first 5 rows"
      ]
    },
    {
      "cell_type": "code",
      "metadata": {
        "id": "R0A5QhDlteWj",
        "outputId": "7559e98b-43a0-480a-900c-cbfaab00a315",
        "colab": {
          "base_uri": "https://localhost:8080/"
        }
      },
      "source": [
        "# path to IMDB dataseet\n",
        "file_path = \"movie_data.csv\"\n",
        "\n",
        "# read file (dataset) into our program using pandas\n",
        "df = pd.read_csv(file_path)\n",
        "\n",
        "# display first 5 rows\n",
        "# df.head it print print first 5 row by defult.\n",
        "#if you want to print first 10 row for example --> df.head(10)\n",
        "print(df.head())"
      ],
      "execution_count": null,
      "outputs": [
        {
          "output_type": "stream",
          "name": "stdout",
          "text": [
            "                                              review  sentiment\n",
            "0  I went and saw this movie last night after bei...          1\n",
            "1  Actor turned director Bill Paxton follows up h...          1\n",
            "2  As a recreational golfer with some knowledge o...          1\n",
            "3  I saw this film in a sneak preview, and it is ...          1\n",
            "4  Bill Paxton has taken the true story of the 19...          1\n"
          ]
        }
      ]
    },
    {
      "cell_type": "markdown",
      "source": [],
      "metadata": {
        "id": "mGFFUpSPQUfm"
      }
    },
    {
      "cell_type": "markdown",
      "metadata": {
        "id": "t8oHmgm-6qK2"
      },
      "source": [
        "Getting info on our dataset"
      ]
    },
    {
      "cell_type": "code",
      "metadata": {
        "id": "uQVx6AhqhAiB",
        "outputId": "f987a583-20cd-4e63-ef27-3b84038a087d",
        "colab": {
          "base_uri": "https://localhost:8080/"
        }
      },
      "source": [
        "# I change data.info to --> df = pd.read_csv(file_path)\n",
        "#beacuse data path is saved in ( df = data frame  ) virable\n",
        "# this method \"info()\" print No.( entries, datatype , ColumnName ) information\n",
        "df.info()"
      ],
      "execution_count": null,
      "outputs": [
        {
          "output_type": "stream",
          "name": "stdout",
          "text": [
            "<class 'pandas.core.frame.DataFrame'>\n",
            "RangeIndex: 50000 entries, 0 to 49999\n",
            "Data columns (total 2 columns):\n",
            " #   Column     Non-Null Count  Dtype \n",
            "---  ------     --------------  ----- \n",
            " 0   review     50000 non-null  object\n",
            " 1   sentiment  50000 non-null  int64 \n",
            "dtypes: int64(1), object(1)\n",
            "memory usage: 781.4+ KB\n"
          ]
        }
      ]
    },
    {
      "cell_type": "markdown",
      "metadata": {
        "id": "cPbcG_8k54JZ"
      },
      "source": [
        "A balanced dataset in sentiment analysis is a dataset which holds an equal amount of positive sentiment data and negative sentiment data, meaning 50% of the data is positive and 50% is negative"
      ]
    },
    {
      "cell_type": "markdown",
      "source": [
        "**Question 2:** Check if dataset is balanced (number of positive sentiment = number of negative sentiment) by plotting the different classes"
      ],
      "metadata": {
        "id": "rgvEJ3BSK_7e"
      }
    },
    {
      "cell_type": "code",
      "metadata": {
        "id": "q12nMYY5vPhn",
        "outputId": "a96c1419-3173-4952-be9c-bab3a9ca7980",
        "colab": {
          "base_uri": "https://localhost:8080/",
          "height": 472
        }
      },
      "source": [
        "# Count the number of positive and negative sentiment samples\n",
        "# the coulment name \"sentiment\" count it\n",
        "sentiment_counts = df['sentiment'].value_counts()\n",
        "\n",
        "# Plot the distribution of classes\n",
        "sentiment_counts.plot(kind='bar', color=['green', 'red'])\n",
        "plt.title('Distribution of Sentiments')\n",
        "# Sentiment is include ( + or - )\n",
        "plt.xlabel('Sentiment')\n",
        "plt.ylabel('Count')\n",
        "plt.xticks(rotation=0)\n",
        "plt.show()\n"
      ],
      "execution_count": null,
      "outputs": [
        {
          "output_type": "display_data",
          "data": {
            "text/plain": [
              "<Figure size 640x480 with 1 Axes>"
            ],
            "image/png": "[encoded data removed]"
          },
          "metadata": {}
        }
      ]
    },
    {
      "cell_type": "code",
      "source": [
        "# EXTRA - code to check if the data balanced or not?\n",
        "# Check if dataset is balanced\n",
        "if sentiment_counts.get('positive', 0) == sentiment_counts.get('negative', 0):\n",
        "    print(\"The dataset is balanced.\")\n",
        "else:\n",
        "    print(\"The dataset is not balanced.\")"
      ],
      "metadata": {
        "id": "uDbuq_LeVzJx",
        "outputId": "284e062a-c094-46d3-cdd0-5350b0b11aa5",
        "colab": {
          "base_uri": "https://localhost:8080/"
        }
      },
      "execution_count": null,
      "outputs": [
        {
          "output_type": "stream",
          "name": "stdout",
          "text": [
            "The dataset is balanced.\n"
          ]
        }
      ]
    },
    {
      "cell_type": "markdown",
      "metadata": {
        "id": "R4uAuueIwKkS"
      },
      "source": [
        "## Text cleaning"
      ]
    },
    {
      "cell_type": "code",
      "metadata": {
        "id": "qCxs0pSovUOa",
        "outputId": "30f920e1-316c-481c-f06b-a2bdcb3e36f3",
        "colab": {
          "base_uri": "https://localhost:8080/"
        }
      },
      "source": [
        "# change it from (data.) to --> (df.)\n",
        "print(df.review[10])"
      ],
      "execution_count": null,
      "outputs": [
        {
          "output_type": "stream",
          "name": "stdout",
          "text": [
            "I loved this movie from beginning to end.I am a musician and i let drugs get in the way of my some of the things i used to love(skateboarding,drawing) but my friends were always there for me.Music was like my rehab,life support,and my drug.It changed my life.I can totally relate to this movie and i wish there was more i could say.This movie left me speechless to be honest.I just saw it on the Ifc channel.I usually hate having satellite but this was a perk of having satellite.The ifc channel shows some really great movies and without it I never would have found this movie.Im not a big fan of the international films because i find that a lot of the don't do a very good job on translating lines.I mean the obvious language barrier leaves you to just believe thats what they are saying but its not that big of a deal i guess.I almost never got to see this AMAZING movie.Good thing i stayed up for it instead of going to bed..well earlier than usual.lol.I hope you all enjoy the hell of this movie and Love this movie just as much as i did.I wish i could type this all in caps but its again the rules i guess thats shouting but it would really show my excitement for the film.I Give It Three Thumbs Way Up!<br /><br />This Movie Blew ME AWAY!\n"
          ]
        }
      ]
    },
    {
      "cell_type": "markdown",
      "metadata": {
        "id": "lAvczEBgxUWl"
      },
      "source": [
        "**Question 3:** Let's define a function that would clean each movie review (sentence)"
      ]
    },
    {
      "cell_type": "code",
      "metadata": {
        "id": "eKKIsHqZwRJR"
      },
      "source": [
        "import re\n",
        "from nltk.corpus import stopwords\n",
        "from nltk.tokenize import word_tokenize\n",
        "from nltk.stem.porter import PorterStemmer\n",
        "\n",
        "english_stopwords = stopwords.words('english')\n",
        "stemmer = PorterStemmer()\n",
        "\n",
        "# define cleaning function\n",
        "def clean_review(text):\n",
        "   # Convert text to lowercase\n",
        "    text = text.lower()\n",
        "    # Remove special characters and numbers, keep only letters\n",
        "    text = re.sub(r'[^a-zA-Z\\s]', '', text)\n",
        "    # Tokenize the text\n",
        "    words = word_tokenize(text)\n",
        "    # Remove stopwords\n",
        "    words = [word for word in words if word not in english_stopwords]\n",
        "    # Stemming\n",
        "    words = [stemmer.stem(word) for word in words]\n",
        "    # Join the words back into a string\n",
        "    cleaned_text = ' '.join(words)\n",
        "\n",
        "    # Change it from (text) to (cleaned_text)\n",
        "    return cleaned_text"
      ],
      "execution_count": null,
      "outputs": []
    },
    {
      "cell_type": "markdown",
      "metadata": {
        "id": "-NIqPBfK67Zc"
      },
      "source": [
        "**Question 4 :** Try it out on an instance of the dataset then on the entire dataset."
      ]
    },
    {
      "cell_type": "code",
      "metadata": {
        "id": "W4Bn3r1wzvwR",
        "outputId": "379ac6d0-a4cc-4359-924e-e7ab3504967f",
        "colab": {
          "base_uri": "https://localhost:8080/"
        }
      },
      "source": [
        "#This code will clean a single instance of the dataset first\n",
        "# Try it out on an instance [5] from the dataset\n",
        "\n",
        "sample_review = df['review'][5]  # 'review' is the column containing movie reviews\n",
        "# (clean_review) is the name of cleaning function from Q3\n",
        "cleaned_sample_review = clean_review(sample_review)\n",
        "print(\"Original Review:\")\n",
        "print(sample_review)\n",
        "print(\"\\nCleaned Review:\")\n",
        "print(cleaned_sample_review)\n"
      ],
      "execution_count": null,
      "outputs": [
        {
          "output_type": "stream",
          "name": "stdout",
          "text": [
            "Original Review:\n",
            "I saw this film on September 1st, 2005 in Indianapolis. I am one of the judges for the Heartland Film Festival that screens films for their Truly Moving Picture Award. A Truly Moving Picture \"...explores the human journey by artistically expressing hope and respect for the positive values of life.\" Heartland gave that award to this film.<br /><br />This is a story of golf in the early part of the 20th century. At that time, it was the game of upper class and rich \"gentlemen\", and working people could only participate by being caddies at country clubs. With this backdrop, this based-on-a-true-story unfolds with a young, working class boy who takes on the golf establishment and the greatest golfer in the world, Harry Vardon.<br /><br />And the story is inspirational. Against all odds, Francis Ouimet (played by Shia LaBeouf of \"Holes\") gets to compete against the greatest golfers of the U.S. and Great Britain at the 1913 U.S. Open. Francis is ill-prepared, and has a child for a caddy. (The caddy is hilarious and motivational and steals every scene he appears in.) But despite these handicaps, Francis displays courage, spirit, heroism, and humility at this world class event.<br /><br />And, we learn a lot about the early years of golf; for example, the use of small wooden clubs, the layout of the short holes, the manual scoreboard, the golfers swinging with pipes in their mouths, the terrible conditions of the greens and fairways, and the play not being canceled even in torrential rain.<br /><br />This film has stunning cinematography and art direction and editing. And with no big movie stars, the story is somehow more believable.<br /><br />This adds to the inventory of great sports movies in the vein of \"Miracle\" and \"Remember the Titans.\"<br /><br />FYI - There is a Truly Moving Pictures web site where there is a listing of past winners going back 70 years.\n",
            "\n",
            "Cleaned Review:\n",
            "saw film septemb st indianapoli one judg heartland film festiv screen film truli move pictur award truli move pictur explor human journey artist express hope respect posit valu life heartland gave award filmbr br stori golf earli part th centuri time game upper class rich gentlemen work peopl could particip caddi countri club backdrop basedonatruestori unfold young work class boy take golf establish greatest golfer world harri vardonbr br stori inspir odd franci ouimet play shia labeouf hole get compet greatest golfer us great britain us open franci illprepar child caddi caddi hilari motiv steal everi scene appear despit handicap franci display courag spirit heroism humil world class eventbr br learn lot earli year golf exampl use small wooden club layout short hole manual scoreboard golfer swing pipe mouth terribl condit green fairway play cancel even torrenti rainbr br film stun cinematographi art direct edit big movi star stori somehow believablebr br add inventori great sport movi vein miracl rememb titansbr br fyi truli move pictur web site list past winner go back year\n"
          ]
        }
      ]
    },
    {
      "cell_type": "markdown",
      "metadata": {
        "id": "24Ycze9C6_yb"
      },
      "source": [
        "And now clean the entire dataset reviews"
      ]
    },
    {
      "cell_type": "code",
      "metadata": {
        "id": "6kHxWkPTz5eA",
        "outputId": "68e93d8c-b630-4637-cb03-e33af917872c",
        "colab": {
          "base_uri": "https://localhost:8080/",
          "height": 432
        }
      },
      "source": [
        "# apply to all dataset\n",
        "#storing the cleaned reviews in a NEW column called 'clean_review'\n",
        "df['cleaned_review'] = df['review'].apply(clean_review)\n",
        "# print First 10 row\n",
        "df.head(10)\n"
      ],
      "execution_count": null,
      "outputs": [
        {
          "output_type": "execute_result",
          "data": {
            "text/plain": [
              "                                              review  sentiment  \\\n",
              "0  I went and saw this movie last night after bei...          1   \n",
              "1  Actor turned director Bill Paxton follows up h...          1   \n",
              "2  As a recreational golfer with some knowledge o...          1   \n",
              "3  I saw this film in a sneak preview, and it is ...          1   \n",
              "4  Bill Paxton has taken the true story of the 19...          1   \n",
              "5  I saw this film on September 1st, 2005 in Indi...          1   \n",
              "6  Maybe I'm reading into this too much, but I wo...          1   \n",
              "7  I felt this film did have many good qualities....          1   \n",
              "8  This movie is amazing because the fact that th...          1   \n",
              "9  \"Quitting\" may be as much about exiting a pre-...          1   \n",
              "\n",
              "                                      cleaned_review  \\\n",
              "0  went saw movi last night coax friend mine ill ...   \n",
              "1  actor turn director bill paxton follow promis ...   \n",
              "2  recreat golfer knowledg sport histori pleas di...   \n",
              "3  saw film sneak preview delight cinematographi ...   \n",
              "4  bill paxton taken true stori us golf open made...   \n",
              "5  saw film septemb st indianapoli one judg heart...   \n",
              "6  mayb im read much wonder much hand hongsheng d...   \n",
              "7  felt film mani good qualiti cinematographi cer...   \n",
              "8  movi amaz fact real peopl portray real life ex...   \n",
              "9  quit may much exit preordain ident drug withdr...   \n",
              "\n",
              "                                        clean_review  \n",
              "0  went saw movi last night coax friend mine ill ...  \n",
              "1  actor turn director bill paxton follow promis ...  \n",
              "2  recreat golfer knowledg sport histori pleas di...  \n",
              "3  saw film sneak preview delight cinematographi ...  \n",
              "4  bill paxton taken true stori us golf open made...  \n",
              "5  saw film septemb st indianapoli one judg heart...  \n",
              "6  mayb im read much wonder much hand hongsheng d...  \n",
              "7  felt film mani good qualiti cinematographi cer...  \n",
              "8  movi amaz fact real peopl portray real life ex...  \n",
              "9  quit may much exit preordain ident drug withdr...  "
            ],
            "text/html": [
              "\n",
              "  <div id=\"df-43eb2d44-167a-43bd-b56a-668702275bf3\" class=\"colab-df-container\">\n",
              "    <div>\n",
              "<style scoped>\n",
              "    .dataframe tbody tr th:only-of-type {\n",
              "        vertical-align: middle;\n",
              "    }\n",
              "\n",
              "    .dataframe tbody tr th {\n",
              "        vertical-align: top;\n",
              "    }\n",
              "\n",
              "    .dataframe thead th {\n",
              "        text-align: right;\n",
              "    }\n",
              "</style>\n",
              "<table border=\"1\" class=\"dataframe\">\n",
              "  <thead>\n",
              "    <tr style=\"text-align: right;\">\n",
              "      <th></th>\n",
              "      <th>review</th>\n",
              "      <th>sentiment</th>\n",
              "      <th>cleaned_review</th>\n",
              "      <th>clean_review</th>\n",
              "    </tr>\n",
              "  </thead>\n",
              "  <tbody>\n",
              "    <tr>\n",
              "      <th>0</th>\n",
              "      <td>I went and saw this movie last night after bei...</td>\n",
              "      <td>1</td>\n",
              "      <td>went saw movi last night coax friend mine ill ...</td>\n",
              "      <td>went saw movi last night coax friend mine ill ...</td>\n",
              "    </tr>\n",
              "    <tr>\n",
              "      <th>1</th>\n",
              "      <td>Actor turned director Bill Paxton follows up h...</td>\n",
              "      <td>1</td>\n",
              "      <td>actor turn director bill paxton follow promis ...</td>\n",
              "      <td>actor turn director bill paxton follow promis ...</td>\n",
              "    </tr>\n",
              "    <tr>\n",
              "      <th>2</th>\n",
              "      <td>As a recreational golfer with some knowledge o...</td>\n",
              "      <td>1</td>\n",
              "      <td>recreat golfer knowledg sport histori pleas di...</td>\n",
              "      <td>recreat golfer knowledg sport histori pleas di...</td>\n",
              "    </tr>\n",
              "    <tr>\n",
              "      <th>3</th>\n",
              "      <td>I saw this film in a sneak preview, and it is ...</td>\n",
              "      <td>1</td>\n",
              "      <td>saw film sneak preview delight cinematographi ...</td>\n",
              "      <td>saw film sneak preview delight cinematographi ...</td>\n",
              "    </tr>\n",
              "    <tr>\n",
              "      <th>4</th>\n",
              "      <td>Bill Paxton has taken the true story of the 19...</td>\n",
              "      <td>1</td>\n",
              "      <td>bill paxton taken true stori us golf open made...</td>\n",
              "      <td>bill paxton taken true stori us golf open made...</td>\n",
              "    </tr>\n",
              "    <tr>\n",
              "      <th>5</th>\n",
              "      <td>I saw this film on September 1st, 2005 in Indi...</td>\n",
              "      <td>1</td>\n",
              "      <td>saw film septemb st indianapoli one judg heart...</td>\n",
              "      <td>saw film septemb st indianapoli one judg heart...</td>\n",
              "    </tr>\n",
              "    <tr>\n",
              "      <th>6</th>\n",
              "      <td>Maybe I'm reading into this too much, but I wo...</td>\n",
              "      <td>1</td>\n",
              "      <td>mayb im read much wonder much hand hongsheng d...</td>\n",
              "      <td>mayb im read much wonder much hand hongsheng d...</td>\n",
              "    </tr>\n",
              "    <tr>\n",
              "      <th>7</th>\n",
              "      <td>I felt this film did have many good qualities....</td>\n",
              "      <td>1</td>\n",
              "      <td>felt film mani good qualiti cinematographi cer...</td>\n",
              "      <td>felt film mani good qualiti cinematographi cer...</td>\n",
              "    </tr>\n",
              "    <tr>\n",
              "      <th>8</th>\n",
              "      <td>This movie is amazing because the fact that th...</td>\n",
              "      <td>1</td>\n",
              "      <td>movi amaz fact real peopl portray real life ex...</td>\n",
              "      <td>movi amaz fact real peopl portray real life ex...</td>\n",
              "    </tr>\n",
              "    <tr>\n",
              "      <th>9</th>\n",
              "      <td>\"Quitting\" may be as much about exiting a pre-...</td>\n",
              "      <td>1</td>\n",
              "      <td>quit may much exit preordain ident drug withdr...</td>\n",
              "      <td>quit may much exit preordain ident drug withdr...</td>\n",
              "    </tr>\n",
              "  </tbody>\n",
              "</table>\n",
              "</div>\n",
              "    <div class=\"colab-df-buttons\">\n",
              "\n",
              "  <div class=\"colab-df-container\">\n",
              "    <button class=\"colab-df-convert\" onclick=\"convertToInteractive('df-43eb2d44-167a-43bd-b56a-668702275bf3')\"\n",
              "            title=\"Convert this dataframe to an interactive table.\"\n",
              "            style=\"display:none;\">\n",
              "\n",
              "  <svg xmlns=\"http://www.w3.org/2000/svg\" height=\"24px\" viewBox=\"0 -960 960 960\">\n",
              "    <path d=\"M120-120v-720h720v720H120Zm60-500h600v-160H180v160Zm220 220h160v-160H400v160Zm0 220h160v-160H400v160ZM180-400h160v-160H180v160Zm440 0h160v-160H620v160ZM180-180h160v-160H180v160Zm440 0h160v-160H620v160Z\"/>\n",
              "  </svg>\n",
              "    </button>\n",
              "\n",
              "  <style>\n",
              "    .colab-df-container {\n",
              "      display:flex;\n",
              "      gap: 12px;\n",
              "    }\n",
              "\n",
              "    .colab-df-convert {\n",
              "      background-color: #E8F0FE;\n",
              "      border: none;\n",
              "      border-radius: 50%;\n",
              "      cursor: pointer;\n",
              "      display: none;\n",
              "      fill: #1967D2;\n",
              "      height: 32px;\n",
              "      padding: 0 0 0 0;\n",
              "      width: 32px;\n",
              "    }\n",
              "\n",
              "    .colab-df-convert:hover {\n",
              "      background-color: #E2EBFA;\n",
              "      box-shadow: 0px 1px 2px rgba(60, 64, 67, 0.3), 0px 1px 3px 1px rgba(60, 64, 67, 0.15);\n",
              "      fill: #174EA6;\n",
              "    }\n",
              "\n",
              "    .colab-df-buttons div {\n",
              "      margin-bottom: 4px;\n",
              "    }\n",
              "\n",
              "    [theme=dark] .colab-df-convert {\n",
              "      background-color: #3B4455;\n",
              "      fill: #D2E3FC;\n",
              "    }\n",
              "\n",
              "    [theme=dark] .colab-df-convert:hover {\n",
              "      background-color: #434B5C;\n",
              "      box-shadow: 0px 1px 3px 1px rgba(0, 0, 0, 0.15);\n",
              "      filter: drop-shadow(0px 1px 2px rgba(0, 0, 0, 0.3));\n",
              "      fill: #FFFFFF;\n",
              "    }\n",
              "  </style>\n",
              "\n",
              "    <script>\n",
              "      const buttonEl =\n",
              "        document.querySelector('#df-43eb2d44-167a-43bd-b56a-668702275bf3 button.colab-df-convert');\n",
              "      buttonEl.style.display =\n",
              "        google.colab.kernel.accessAllowed ? 'block' : 'none';\n",
              "\n",
              "      async function convertToInteractive(key) {\n",
              "        const element = document.querySelector('#df-43eb2d44-167a-43bd-b56a-668702275bf3');\n",
              "        const dataTable =\n",
              "          await google.colab.kernel.invokeFunction('convertToInteractive',\n",
              "                                                    [key], {});\n",
              "        if (!dataTable) return;\n",
              "\n",
              "        const docLinkHtml = 'Like what you see? Visit the ' +\n",
              "          '<a target=\"_blank\" href=https://colab.research.google.com/notebooks/data_table.ipynb>data table notebook</a>'\n",
              "          + ' to learn more about interactive tables.';\n",
              "        element.innerHTML = '';\n",
              "        dataTable['output_type'] = 'display_data';\n",
              "        await google.colab.output.renderOutput(dataTable, element);\n",
              "        const docLink = document.createElement('div');\n",
              "        docLink.innerHTML = docLinkHtml;\n",
              "        element.appendChild(docLink);\n",
              "      }\n",
              "    </script>\n",
              "  </div>\n",
              "\n",
              "\n",
              "<div id=\"df-9e899854-0073-4618-80a7-f967f680a329\">\n",
              "  <button class=\"colab-df-quickchart\" onclick=\"quickchart('df-9e899854-0073-4618-80a7-f967f680a329')\"\n",
              "            title=\"Suggest charts\"\n",
              "            style=\"display:none;\">\n",
              "\n",
              "<svg xmlns=\"http://www.w3.org/2000/svg\" height=\"24px\"viewBox=\"0 0 24 24\"\n",
              "     width=\"24px\">\n",
              "    <g>\n",
              "        <path d=\"M19 3H5c-1.1 0-2 .9-2 2v14c0 1.1.9 2 2 2h14c1.1 0 2-.9 2-2V5c0-1.1-.9-2-2-2zM9 17H7v-7h2v7zm4 0h-2V7h2v10zm4 0h-2v-4h2v4z\"/>\n",
              "    </g>\n",
              "</svg>\n",
              "  </button>\n",
              "\n",
              "<style>\n",
              "  .colab-df-quickchart {\n",
              "      --bg-color: #E8F0FE;\n",
              "      --fill-color: #1967D2;\n",
              "      --hover-bg-color: #E2EBFA;\n",
              "      --hover-fill-color: #174EA6;\n",
              "      --disabled-fill-color: #AAA;\n",
              "      --disabled-bg-color: #DDD;\n",
              "  }\n",
              "\n",
              "  [theme=dark] .colab-df-quickchart {\n",
              "      --bg-color: #3B4455;\n",
              "      --fill-color: #D2E3FC;\n",
              "      --hover-bg-color: #434B5C;\n",
              "      --hover-fill-color: #FFFFFF;\n",
              "      --disabled-bg-color: #3B4455;\n",
              "      --disabled-fill-color: #666;\n",
              "  }\n",
              "\n",
              "  .colab-df-quickchart {\n",
              "    background-color: var(--bg-color);\n",
              "    border: none;\n",
              "    border-radius: 50%;\n",
              "    cursor: pointer;\n",
              "    display: none;\n",
              "    fill: var(--fill-color);\n",
              "    height: 32px;\n",
              "    padding: 0;\n",
              "    width: 32px;\n",
              "  }\n",
              "\n",
              "  .colab-df-quickchart:hover {\n",
              "    background-color: var(--hover-bg-color);\n",
              "    box-shadow: 0 1px 2px rgba(60, 64, 67, 0.3), 0 1px 3px 1px rgba(60, 64, 67, 0.15);\n",
              "    fill: var(--button-hover-fill-color);\n",
              "  }\n",
              "\n",
              "  .colab-df-quickchart-complete:disabled,\n",
              "  .colab-df-quickchart-complete:disabled:hover {\n",
              "    background-color: var(--disabled-bg-color);\n",
              "    fill: var(--disabled-fill-color);\n",
              "    box-shadow: none;\n",
              "  }\n",
              "\n",
              "  .colab-df-spinner {\n",
              "    border: 2px solid var(--fill-color);\n",
              "    border-color: transparent;\n",
              "    border-bottom-color: var(--fill-color);\n",
              "    animation:\n",
              "      spin 1s steps(1) infinite;\n",
              "  }\n",
              "\n",
              "  @keyframes spin {\n",
              "    0% {\n",
              "      border-color: transparent;\n",
              "      border-bottom-color: var(--fill-color);\n",
              "      border-left-color: var(--fill-color);\n",
              "    }\n",
              "    20% {\n",
              "      border-color: transparent;\n",
              "      border-left-color: var(--fill-color);\n",
              "      border-top-color: var(--fill-color);\n",
              "    }\n",
              "    30% {\n",
              "      border-color: transparent;\n",
              "      border-left-color: var(--fill-color);\n",
              "      border-top-color: var(--fill-color);\n",
              "      border-right-color: var(--fill-color);\n",
              "    }\n",
              "    40% {\n",
              "      border-color: transparent;\n",
              "      border-right-color: var(--fill-color);\n",
              "      border-top-color: var(--fill-color);\n",
              "    }\n",
              "    60% {\n",
              "      border-color: transparent;\n",
              "      border-right-color: var(--fill-color);\n",
              "    }\n",
              "    80% {\n",
              "      border-color: transparent;\n",
              "      border-right-color: var(--fill-color);\n",
              "      border-bottom-color: var(--fill-color);\n",
              "    }\n",
              "    90% {\n",
              "      border-color: transparent;\n",
              "      border-bottom-color: var(--fill-color);\n",
              "    }\n",
              "  }\n",
              "</style>\n",
              "\n",
              "  <script>\n",
              "    async function quickchart(key) {\n",
              "      const quickchartButtonEl =\n",
              "        document.querySelector('#' + key + ' button');\n",
              "      quickchartButtonEl.disabled = true;  // To prevent multiple clicks.\n",
              "      quickchartButtonEl.classList.add('colab-df-spinner');\n",
              "      try {\n",
              "        const charts = await google.colab.kernel.invokeFunction(\n",
              "            'suggestCharts', [key], {});\n",
              "      } catch (error) {\n",
              "        console.error('Error during call to suggestCharts:', error);\n",
              "      }\n",
              "      quickchartButtonEl.classList.remove('colab-df-spinner');\n",
              "      quickchartButtonEl.classList.add('colab-df-quickchart-complete');\n",
              "    }\n",
              "    (() => {\n",
              "      let quickchartButtonEl =\n",
              "        document.querySelector('#df-9e899854-0073-4618-80a7-f967f680a329 button');\n",
              "      quickchartButtonEl.style.display =\n",
              "        google.colab.kernel.accessAllowed ? 'block' : 'none';\n",
              "    })();\n",
              "  </script>\n",
              "</div>\n",
              "\n",
              "    </div>\n",
              "  </div>\n"
            ],
            "application/vnd.google.colaboratory.intrinsic+json": {
              "type": "dataframe",
              "summary": "{\n  \"name\": \"#df['cleaned_review'] = df['review']\",\n  \"rows\": 10,\n  \"fields\": [\n    {\n      \"column\": \"review\",\n      \"properties\": {\n        \"dtype\": \"string\",\n        \"num_unique_values\": 10,\n        \"samples\": [\n          \"This movie is amazing because the fact that the real people portray themselves and their real life experience and do such a good job it's like they're almost living the past over again. Jia Hongsheng plays himself an actor who quit everything except music and drugs struggling with depression and searching for the meaning of life while being angry at everyone especially the people who care for him most. There's moments in the movie that will make you wanna cry because the family especially the father did such a good job. However, this movie is not for everyone. Many people who suffer from depression will understand Hongsheng's problem and why he does the things he does for example keep himself shut in a dark room or go for walks or bike rides by himself. Others might see the movie as boring because it's just so real that its almost like a documentary. Overall this movie is great and Hongsheng deserved an Oscar for this movie so did his Dad.\",\n          \"Actor turned director Bill Paxton follows up his promising debut, the Gothic-horror \\\"Frailty\\\", with this family friendly sports drama about the 1913 U.S. Open where a young American caddy rises from his humble background to play against his Bristish idol in what was dubbed as \\\"The Greatest Game Ever Played.\\\" I'm no fan of golf, and these scrappy underdog sports flicks are a dime a dozen (most recently done to grand effect with \\\"Miracle\\\" and \\\"Cinderella Man\\\"), but some how this film was enthralling all the same.<br /><br />The film starts with some creative opening credits (imagine a Disneyfied version of the animated opening credits of HBO's \\\"Carnivale\\\" and \\\"Rome\\\"), but lumbers along slowly for its first by-the-numbers hour. Once the action moves to the U.S. Open things pick up very well. Paxton does a nice job and shows a knack for effective directorial flourishes (I loved the rain-soaked montage of the action on day two of the open) that propel the plot further or add some unexpected psychological depth to the proceedings. There's some compelling character development when the British Harry Vardon is haunted by images of the aristocrats in black suits and top hats who destroyed his family cottage as a child to make way for a golf course. He also does a good job of visually depicting what goes on in the players' heads under pressure. Golf, a painfully boring sport, is brought vividly alive here. Credit should also be given the set designers and costume department for creating an engaging period-piece atmosphere of London and Boston at the beginning of the twentieth century.<br /><br />You know how this is going to end not only because it's based on a true story but also because films in this genre follow the same template over and over, but Paxton puts on a better than average show and perhaps indicates more talent behind the camera than he ever had in front of it. Despite the formulaic nature, this is a nice and easy film to root for that deserves to find an audience.\",\n          \"I saw this film on September 1st, 2005 in Indianapolis. I am one of the judges for the Heartland Film Festival that screens films for their Truly Moving Picture Award. A Truly Moving Picture \\\"...explores the human journey by artistically expressing hope and respect for the positive values of life.\\\" Heartland gave that award to this film.<br /><br />This is a story of golf in the early part of the 20th century. At that time, it was the game of upper class and rich \\\"gentlemen\\\", and working people could only participate by being caddies at country clubs. With this backdrop, this based-on-a-true-story unfolds with a young, working class boy who takes on the golf establishment and the greatest golfer in the world, Harry Vardon.<br /><br />And the story is inspirational. Against all odds, Francis Ouimet (played by Shia LaBeouf of \\\"Holes\\\") gets to compete against the greatest golfers of the U.S. and Great Britain at the 1913 U.S. Open. Francis is ill-prepared, and has a child for a caddy. (The caddy is hilarious and motivational and steals every scene he appears in.) But despite these handicaps, Francis displays courage, spirit, heroism, and humility at this world class event.<br /><br />And, we learn a lot about the early years of golf; for example, the use of small wooden clubs, the layout of the short holes, the manual scoreboard, the golfers swinging with pipes in their mouths, the terrible conditions of the greens and fairways, and the play not being canceled even in torrential rain.<br /><br />This film has stunning cinematography and art direction and editing. And with no big movie stars, the story is somehow more believable.<br /><br />This adds to the inventory of great sports movies in the vein of \\\"Miracle\\\" and \\\"Remember the Titans.\\\"<br /><br />FYI - There is a Truly Moving Pictures web site where there is a listing of past winners going back 70 years.\"\n        ],\n        \"semantic_type\": \"\",\n        \"description\": \"\"\n      }\n    },\n    {\n      \"column\": \"sentiment\",\n      \"properties\": {\n        \"dtype\": \"number\",\n        \"std\": 0,\n        \"min\": 1,\n        \"max\": 1,\n        \"num_unique_values\": 1,\n        \"samples\": [\n          1\n        ],\n        \"semantic_type\": \"\",\n        \"description\": \"\"\n      }\n    },\n    {\n      \"column\": \"cleaned_review\",\n      \"properties\": {\n        \"dtype\": \"string\",\n        \"num_unique_values\": 10,\n        \"samples\": [\n          \"movi amaz fact real peopl portray real life experi good job like theyr almost live past jia hongsheng play actor quit everyth except music drug struggl depress search mean life angri everyon especi peopl care there moment movi make wan na cri famili especi father good job howev movi everyon mani peopl suffer depress understand hongsheng problem thing exampl keep shut dark room go walk bike ride other might see movi bore real almost like documentari overal movi great hongsheng deserv oscar movi dad\"\n        ],\n        \"semantic_type\": \"\",\n        \"description\": \"\"\n      }\n    },\n    {\n      \"column\": \"clean_review\",\n      \"properties\": {\n        \"dtype\": \"string\",\n        \"num_unique_values\": 10,\n        \"samples\": [\n          \"movi amaz fact real peopl portray real life experi good job like theyr almost live past jia hongsheng play actor quit everyth except music drug struggl depress search mean life angri everyon especi peopl care there moment movi make wan na cri famili especi father good job howev movi everyon mani peopl suffer depress understand hongsheng problem thing exampl keep shut dark room go walk bike ride other might see movi bore real almost like documentari overal movi great hongsheng deserv oscar movi dad\"\n        ],\n        \"semantic_type\": \"\",\n        \"description\": \"\"\n      }\n    }\n  ]\n}"
            }
          },
          "metadata": {},
          "execution_count": 40
        }
      ]
    },
    {
      "cell_type": "markdown",
      "metadata": {
        "id": "zkVqSSzu2Ax8"
      },
      "source": [
        "## Split dataset for training and testing\n",
        "We will split our data into two subsets: a 50% subset will be used for training the model for prediction and the remaining 50% will be used for evaluating or testing its performance. The random state ensures reproducibility of the results."
      ]
    },
    {
      "cell_type": "markdown",
      "source": [
        "**Question 5:** Split your data to get x_train, x_test, y_train and y_test."
      ],
      "metadata": {
        "id": "HfMQ4DP0LahH"
      }
    },
    {
      "cell_type": "code",
      "metadata": {
        "id": "QPHlwVS71brN",
        "outputId": "fc9f3657-fb63-49ff-e91f-c19b63a5260b",
        "colab": {
          "base_uri": "https://localhost:8080/"
        }
      },
      "source": [
        "from sklearn.model_selection import train_test_split\n",
        "\n",
        "X = df['cleaned_review']  # Features\n",
        "y = df['sentiment']  # Target\n",
        "\n",
        "# Split data into 50% training & 50% test\n",
        "# Use a random state of 42 for example to ensure having the same split\n",
        "x_train, x_test, y_train, y_test = train_test_split(X, y, test_size=0.5, random_state=42)\n",
        "\n",
        "print(x_train.shape, y_train.shape)\n",
        "print(x_test.shape, y_test.shape)"
      ],
      "execution_count": null,
      "outputs": [
        {
          "output_type": "stream",
          "name": "stdout",
          "text": [
            "(25000,) (25000,)\n",
            "(25000,) (25000,)\n"
          ]
        }
      ]
    },
    {
      "cell_type": "markdown",
      "metadata": {
        "id": "Wz23g0nD2nhN"
      },
      "source": [
        "## Feature extraction with Bag of Words\n"
      ]
    },
    {
      "cell_type": "markdown",
      "source": [
        "**Question 6:**  In this section, apply the Bag of Words method to learn the vocabulary of your text and with it transform your training input data."
      ],
      "metadata": {
        "id": "FGHs66FILldh"
      }
    },
    {
      "cell_type": "code",
      "metadata": {
        "id": "0_B0vrn-2sON",
        "outputId": "281d80cf-db56-40f1-ab59-33ec45df0211",
        "colab": {
          "base_uri": "https://localhost:8080/"
        }
      },
      "source": [
        "from sklearn.feature_extraction.text import CountVectorizer\n",
        "\n",
        "# define a CountVectorizer (with binary=True and max_features=10000)\n",
        "vectorizer = CountVectorizer(binary=True, max_features=10000)\n",
        "\n",
        "# learn the vocabulary of all tokens in our training dataset\n",
        "vectorizer.fit(x_train)\n",
        "\n",
        "# transform x_train to bag of words\n",
        "x_train_bow = vectorizer.transform(x_train)\n",
        "x_test_bow = vectorizer.transform(x_test)\n",
        "\n",
        "print(x_train_bow.shape, y_train.shape)\n",
        "print(x_test_bow.shape, y_test.shape)"
      ],
      "execution_count": null,
      "outputs": [
        {
          "output_type": "stream",
          "name": "stdout",
          "text": [
            "(25000, 10000) (25000,)\n",
            "(25000, 10000) (25000,)\n"
          ]
        }
      ]
    },
    {
      "cell_type": "markdown",
      "metadata": {
        "id": "UtLaJfuw4060"
      },
      "source": [
        "## Classification\n",
        "\n",
        "**Question 7:** Your data is ready for classification. For this task use [LogisticRegression](https://scikit-learn.org/stable/modules/generated/sklearn.linear_model.LogisticRegression.html)"
      ]
    },
    {
      "cell_type": "code",
      "metadata": {
        "id": "9mS51YGO4hfv",
        "outputId": "7dfbef1a-cfa4-433e-a236-34ce867baba0",
        "colab": {
          "base_uri": "https://localhost:8080/"
        }
      },
      "source": [
        "from sklearn.linear_model import LogisticRegression\n",
        "# if we increase the ( max_features=10000 ) the accurcy will increase\n",
        "# define the LogisticRegression classifier\n",
        "classifire = LogisticRegression()\n",
        "\n",
        "# train the classifier on the training data\n",
        "classifire.fit(x_train_bow, y_train)\n",
        "\n",
        "# get the mean accuracy on the training data\n",
        "acc_train = classifire.score(x_train_bow, y_train)\n",
        "\n",
        "print('Training Accuracy:', acc_train)"
      ],
      "execution_count": null,
      "outputs": [
        {
          "output_type": "stream",
          "name": "stdout",
          "text": [
            "Training Accuracy: 0.98244\n"
          ]
        },
        {
          "output_type": "stream",
          "name": "stderr",
          "text": [
            "/usr/local/lib/python3.10/dist-packages/sklearn/linear_model/_logistic.py:458: ConvergenceWarning: lbfgs failed to converge (status=1):\n",
            "STOP: TOTAL NO. of ITERATIONS REACHED LIMIT.\n",
            "\n",
            "Increase the number of iterations (max_iter) or scale the data as shown in:\n",
            "    https://scikit-learn.org/stable/modules/preprocessing.html\n",
            "Please also refer to the documentation for alternative solver options:\n",
            "    https://scikit-learn.org/stable/modules/linear_model.html#logistic-regression\n",
            "  n_iter_i = _check_optimize_result(\n"
          ]
        }
      ]
    },
    {
      "cell_type": "markdown",
      "metadata": {
        "id": "2Csw7GEm76E5"
      },
      "source": [
        "**Question 8:**  Evaluating the performance of your model through its accuracy score"
      ]
    },
    {
      "cell_type": "code",
      "metadata": {
        "id": "sBJnyoqO5NyE",
        "outputId": "15c28bf9-5cd2-4be1-d193-0f372f44c2ff",
        "colab": {
          "base_uri": "https://localhost:8080/"
        }
      },
      "source": [
        "# Evaluate model with test data\n",
        "acc_test = classifire.score(x_test_bow, y_test)\n",
        "\n",
        "print('Test Accuracy:', acc_test)"
      ],
      "execution_count": null,
      "outputs": [
        {
          "output_type": "stream",
          "name": "stdout",
          "text": [
            "Test Accuracy: 0.86336\n"
          ]
        }
      ]
    },
    {
      "cell_type": "markdown",
      "metadata": {
        "id": "Yh5927-d6Gq4"
      },
      "source": [
        "## Bonus: Let's use the model to predict!\n",
        "To do so, let's create a predict function which takes as argument your model and the bag of words vectorizer together with a review on which it would predict the sentiment. This review should be cleaned with the `clean_review` function we built, transformed by bag of words and then used for prediction with `model.predict()`."
      ]
    },
    {
      "cell_type": "code",
      "metadata": {
        "id": "u6kxkZ5m55Ii"
      },
      "source": [
        "# define predict function\n",
        "\n",
        "def predict_sentiment(classifire, vectorizer, review):\n",
        "    # Clean the review using the clean_review function\n",
        "    cleaned_review = clean_review(review)\n",
        "    # Transform the cleaned review into bag of words representation\n",
        "    bow_review = vectorizer.transform([cleaned_review])\n",
        "    # Predict the sentiment using the trained model\n",
        "    prediction = classifire.predict(bow_review)\n",
        "    # Return the predicted sentiment\n",
        "    return prediction[0]\n",
        "\n",
        "\n",
        "\n"
      ],
      "execution_count": null,
      "outputs": []
    },
    {
      "cell_type": "markdown",
      "metadata": {
        "id": "7VrNunL18l4a"
      },
      "source": [
        "And let's try it out on an example"
      ]
    },
    {
      "cell_type": "code",
      "metadata": {
        "id": "8z6WCl916flD",
        "outputId": "21cf59b4-f3a4-48f1-b2a0-ff7bdd27bccb",
        "colab": {
          "base_uri": "https://localhost:8080/"
        }
      },
      "source": [
        "# Example review\n",
        "review = 'The movie was wonderful!'\n",
        "\n",
        "# Predict sentiment\n",
        "predict = predict_sentiment(classifire, vectorizer, review)\n",
        "\n",
        "if predict == 1 :\n",
        "  print (\"POSITIVE REVIEW 😀🌟\")\n",
        "else :\n",
        "  print (\"NEGITIVE REVIEW 😠\")\n",
        "\n",
        "#print(\"Predicted Sentiment:\" , predict)"
      ],
      "execution_count": null,
      "outputs": [
        {
          "output_type": "stream",
          "name": "stdout",
          "text": [
            "POSITIVE REVIEW 😀🌟\n"
          ]
        }
      ]
    },
    {
      "cell_type": "code",
      "source": [],
      "metadata": {
        "id": "YrR0YUCjjOFI"
      },
      "execution_count": null,
      "outputs": []
    }
  ]
}